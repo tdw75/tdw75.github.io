{
 "cells": [
  {
   "cell_type": "code",
   "execution_count": 1,
   "metadata": {},
   "outputs": [],
   "source": [
    "import numpy as np\n",
    "import pandas as pd\n",
    "import warnings\n",
    "import matplotlib.pyplot as plt\n",
    "import seaborn as sns\n",
    "warnings.filterwarnings('ignore')\n",
    "from yellowbrick.regressor import AlphaSelection\n",
    "\n",
    "from sklearn.model_selection import train_test_split\n",
    "from sklearn.model_selection import GridSearchCV, RandomizedSearchCV\n",
    "from sklearn.metrics import mean_squared_error, r2_score,  mean_absolute_error\n",
    "\n",
    "from sklearn.pipeline import Pipeline\n",
    "from sklearn.preprocessing import StandardScaler\n",
    "\n",
    "from sklearn.linear_model import LinearRegression, LassoCV, RidgeCV, ElasticNetCV\n",
    "from sklearn.tree import DecisionTreeRegressor\n",
    "from sklearn.ensemble import RandomForestRegressor, BaggingRegressor\n",
    "import xgboost as xgb\n",
    "import lightgbm as lgb\n",
    "from mlxtend.regressor import StackingCVRegressor\n",
    "\n",
    "from sklearn.neighbors import KNeighborsRegressor\n",
    "from sklearn.model_selection import cross_val_score\n",
    "from sklearn.preprocessing import StandardScaler\n",
    "from sklearn.decomposition import PCA\n",
    "import os"
   ]
  },
  {
   "cell_type": "code",
   "execution_count": 52,
   "metadata": {},
   "outputs": [],
   "source": [
    "# Plot settings\n",
    "sns.set_context('notebook') \n",
    "sns.set_style('ticks') \n",
    "colours = ['#1F77B4', '#FF7F0E', '#2CA02C', '#DB2728', '#9467BD', '#8C564B', '#E377C2','#7F7F7F', '#BCBD22', '#17BECF']\n",
    "crayon = ['#4E79A7','#F28E2C','#E15759','#76B7B2','#59A14F', '#EDC949','#AF7AA1','#FF9DA7','#9C755F','#BAB0AB']\n",
    "sns.set_palette(colours)\n",
    "%matplotlib inline\n",
    "plt.rcParams['figure.figsize'] = (9, 6)"
   ]
  },
  {
   "cell_type": "code",
   "execution_count": 2,
   "metadata": {},
   "outputs": [],
   "source": [
    "# Read in data from pkl\n",
    "train = pd.read_pickle('final_train_set.pkl')\n",
    "test = pd.read_pickle('final_test_set.pkl')\n",
    "data_errors = pd.read_pickle('prices_for_data_errors.pkl')\n",
    "\n",
    "y_train = np.log(train['price'])\n",
    "X_train = train.iloc[:,2:]\n",
    "X_test = test.iloc[:,1:]"
   ]
  },
  {
   "cell_type": "code",
   "execution_count": 3,
   "metadata": {},
   "outputs": [],
   "source": [
    "def submission_scores(y_pred, missing_values, filename):\n",
    "\n",
    "    y_pred = pd.Series(y_pred)\n",
    "    \n",
    "    y_sub = pd.concat([test.id, y_pred], axis = 1)\n",
    "    y_sub.columns = ['Id', 'Predicted']\n",
    "    submission = pd.concat([missing_values, y_sub]).sort_values(by='Id')\n",
    "    \n",
    "    submission.to_csv(filename+'.csv', index=False)\n",
    "    \n",
    "    return submission"
   ]
  },
  {
   "cell_type": "markdown",
   "metadata": {},
   "source": [
    "### Lasso regression"
   ]
  },
  {
   "cell_type": "code",
   "execution_count": 4,
   "metadata": {},
   "outputs": [],
   "source": [
    "from sklearn.preprocessing import StandardScaler\n",
    "\n",
    "scaler = StandardScaler()\n",
    "scaler.fit(X_train)\n",
    "\n",
    "X_train_scaled = scaler.transform(X_train)\n",
    "X_test_scaled = scaler.transform(X_test)"
   ]
  },
  {
   "cell_type": "code",
   "execution_count": 5,
   "metadata": {},
   "outputs": [
    {
     "data": {
      "text/plain": [
       "LassoCV(alphas=[3.0517578125e-05, 3.1230892700096886e-05, 3.1960880213031815e-05, 3.270793037525308e-05, 3.347244200728228e-05, 3.42548232516288e-05, 3.505549179068098e-05, 3.587487506969019e-05, 3.671341052496696e-05, 3.7571545817410796e-05, 3.844973907149883e-05, 3.9348459119860216e-05, 4.026818575356734e...8903539927326339, 0.0009111650307976637, 0.0009324625038187663, 0.0009542577816740684, 0.0009765625],\n",
       "    copy_X=True, cv=15, eps=0.001, fit_intercept=True, max_iter=1000,\n",
       "    n_alphas=100, n_jobs=None, normalize=False, positive=False,\n",
       "    precompute='auto', random_state=None, selection='cyclic', tol=0.0001,\n",
       "    verbose=False)"
      ]
     },
     "execution_count": 5,
     "metadata": {},
     "output_type": "execute_result"
    }
   ],
   "source": [
    "from sklearn.linear_model import LassoCV\n",
    "\n",
    "alphas = list(np.logspace(-15, -10, 151, base=2))\n",
    "\n",
    "lasso = LassoCV(cv=15, alphas=alphas)\n",
    "lasso.fit(X_train_scaled, y_train)"
   ]
  },
  {
   "cell_type": "code",
   "execution_count": 6,
   "metadata": {},
   "outputs": [],
   "source": [
    "result_lasso = np.sqrt(-1*np.mean(cross_val_score(lasso, X_train, np.exp(y_train), cv=10, scoring='neg_mean_squared_error')))"
   ]
  },
  {
   "cell_type": "markdown",
   "metadata": {},
   "source": [
    "### Random Forest Regression "
   ]
  },
  {
   "cell_type": "code",
   "execution_count": 7,
   "metadata": {},
   "outputs": [
    {
     "name": "stdout",
     "output_type": "stream",
     "text": [
      "Best parameters found by randomised search: {'n_estimators': 200, 'min_samples_leaf': 1, 'max_features': 11} \n",
      "\n"
     ]
    }
   ],
   "source": [
    "#%%time\n",
    "\n",
    "model = RandomForestRegressor()\n",
    "\n",
    "tuning_parameters = {\n",
    "    'min_samples_leaf': [1,5, 10, 20, 50],\n",
    "    'max_features': np.arange(1, X_train.shape[1], 5),\n",
    "    'n_estimators' : [100, 200, 500]\n",
    "}\n",
    "\n",
    "rf_search = RandomizedSearchCV(model, tuning_parameters, cv = 15, n_iter= 16, return_train_score=False, n_jobs=4,\n",
    "                              random_state = 20)\n",
    "rf_search.fit(X_train, y_train)\n",
    "\n",
    "rf = rf_search.best_estimator_\n",
    "\n",
    "print('Best parameters found by randomised search:', rf_search.best_params_, '\\n')"
   ]
  },
  {
   "cell_type": "code",
   "execution_count": 12,
   "metadata": {},
   "outputs": [
    {
     "name": "stdout",
     "output_type": "stream",
     "text": [
      "128.9415768604318\n"
     ]
    }
   ],
   "source": [
    "rf.fit(X_train, y_train)\n",
    "result_rf = np.sqrt(-1*np.mean(cross_val_score(rf, X_train, np.exp(y_train), cv=15, scoring='neg_mean_squared_error')))\n",
    "print(result_rf)"
   ]
  },
  {
   "cell_type": "code",
   "execution_count": null,
   "metadata": {},
   "outputs": [],
   "source": []
  },
  {
   "cell_type": "markdown",
   "metadata": {},
   "source": [
    "### XGBoost"
   ]
  },
  {
   "cell_type": "code",
   "execution_count": 10,
   "metadata": {},
   "outputs": [
    {
     "name": "stdout",
     "output_type": "stream",
     "text": [
      "Best parameters found by randomised search: {'subsample': 1.0, 'n_estimators': 750, 'max_depth': 3, 'learning_rate': 0.05} \n",
      "\n"
     ]
    }
   ],
   "source": [
    "#%%time\n",
    "\n",
    "model = xgb.XGBRegressor()\n",
    "\n",
    "tuning_parameters = {\n",
    "    'learning_rate': [0.01, 0.05, 0.1],\n",
    "    'n_estimators' : [250, 500, 750, 1000, 1500],\n",
    "    'max_depth' : [2, 3, 4],\n",
    "    'subsample' : [0.6, 0.8, 1.0],\n",
    "}\n",
    "\n",
    "gb_search = RandomizedSearchCV(model, tuning_parameters, n_iter = 16, cv = 15, return_train_score=False, n_jobs=4,\n",
    "                              random_state = 20)\n",
    "gb_search.fit(X_train, y_train)\n",
    "\n",
    "xbst = gb_search.best_estimator_\n",
    "\n",
    "\n",
    "print('Best parameters found by randomised search:', gb_search.best_params_, '\\n')"
   ]
  },
  {
   "cell_type": "code",
   "execution_count": 11,
   "metadata": {},
   "outputs": [
    {
     "data": {
      "text/plain": [
       "132.81586583838205"
      ]
     },
     "execution_count": 11,
     "metadata": {},
     "output_type": "execute_result"
    }
   ],
   "source": [
    "result_xbst = np.sqrt(-1*np.mean(cross_val_score(xbst, X_train, np.exp(y_train), cv=10, scoring='neg_mean_squared_error')))\n",
    "result_xbst"
   ]
  },
  {
   "cell_type": "code",
   "execution_count": 53,
   "metadata": {},
   "outputs": [
    {
     "data": {
      "image/png": "[encoded data removed]",
      "text/plain": [
       "<Figure size 720x360 with 1 Axes>"
      ]
     },
     "metadata": {
      "needs_background": "light"
     },
     "output_type": "display_data"
    }
   ],
   "source": [
    "from xgboost import plot_importance\n",
    "\n",
    "#plt.barh(np.arange(0, len(xbst.feature_importances_)), xbst.feature_importances_)\n",
    "\n",
    "fig, ax = plt.subplots(figsize=(10, 5))\n",
    "plot_importance(xbst, ax=ax, importance_type='gain', show_values=False)\n",
    "\n",
    "\n",
    "plt.show()"
   ]
  },
  {
   "cell_type": "code",
   "execution_count": 64,
   "metadata": {},
   "outputs": [
    {
     "data": {
      "image/png": "[encoded data removed]",
      "text/plain": [
       "<Figure size 720x360 with 1 Axes>"
      ]
     },
     "metadata": {
      "needs_background": "light"
     },
     "output_type": "display_data"
    }
   ],
   "source": [
    "feat_importances = pd.Series(xbst.feature_importances_, index=X_train.columns)\n",
    "\n",
    "fig, ax = plt.subplots(figsize=(10, 5))\n",
    "feat_importances.sort_values(ascending=True).plot(kind='barh', ax=ax, width=0.8)\n",
    "ax.set_title('XGBoost Feature Importance')\n",
    "ax.set_xlabel('Gain')\n",
    "\n",
    "plt.savefig(os.path.join('XGB_feature_importance.png'))\n",
    "\n",
    "plt.show()"
   ]
  },
  {
   "cell_type": "code",
   "execution_count": 36,
   "metadata": {},
   "outputs": [
    {
     "data": {
      "text/plain": [
       "room_feature                 0.608253\n",
       "filled_bedrooms              0.103798\n",
       "accommodates                 0.067120\n",
       "filled_bathrooms             0.062932\n",
       "postcode_feature             0.023910\n",
       "filled_cleaning_fee          0.016888\n",
       "property_feature             0.015219\n",
       "filled_security_deposits     0.010205\n",
       "minimum_nights               0.009972\n",
       "number_of_reviews            0.009738\n",
       "extra_people                 0.008751\n",
       "instant_bookable             0.008559\n",
       "distance_feature             0.007179\n",
       "cancellation_feature         0.006928\n",
       "filled_reviews_per_month     0.006438\n",
       "maximum_nights               0.005887\n",
       "filled_beds                  0.005642\n",
       "host_is_superhost            0.005160\n",
       "review_pc_3                  0.004993\n",
       "host_total_listings_count    0.004539\n",
       "review_pc_2                  0.003277\n",
       "review_pc_1                  0.003212\n",
       "host_identity_verified       0.001400\n",
       "dtype: float32"
      ]
     },
     "execution_count": 36,
     "metadata": {},
     "output_type": "execute_result"
    }
   ],
   "source": []
  },
  {
   "cell_type": "markdown",
   "metadata": {},
   "source": [
    "### PCA KNN regression"
   ]
  },
  {
   "cell_type": "code",
   "execution_count": null,
   "metadata": {},
   "outputs": [],
   "source": [
    "def pca_reduction(data, features, components=4):\n",
    "    x = data.loc[:, features].values\n",
    "    x = StandardScaler().fit_transform(x)\n",
    "    pd.DataFrame(x, columns = features)\n",
    "    pca1 = PCA(n_components=components)\n",
    "    principal_components = pca1.fit_transform(x)\n",
    "    principal_df = pd.DataFrame(data = principal_components)\n",
    "    exp_var = pca1.explained_variance_ratio_\n",
    "    \n",
    "    return pca1"
   ]
  },
  {
   "cell_type": "code",
   "execution_count": null,
   "metadata": {},
   "outputs": [],
   "source": [
    "pca = pca_reduction(X_train, X_train.columns)\n",
    "knn_pca = KNeighborsRegressor(n_neighbors = 7)\n",
    "knn_pca.fit(y=y_train, X=X_train)"
   ]
  },
  {
   "cell_type": "code",
   "execution_count": null,
   "metadata": {},
   "outputs": [],
   "source": [
    "result_knn = np.sqrt(-1*np.mean(cross_val_score(knn_pca, X_train, np.exp(y_train), cv=10, scoring='neg_mean_squared_error')))"
   ]
  },
  {
   "cell_type": "markdown",
   "metadata": {},
   "source": [
    "### Model stack"
   ]
  },
  {
   "cell_type": "code",
   "execution_count": null,
   "metadata": {},
   "outputs": [],
   "source": [
    "#%%time\n",
    "\n",
    "models = [lasso, knn_pca, xbst, rf]\n",
    "model_names = ['Lasso', 'KNN_PCA', 'XGBoost', 'Random Forest']\n",
    "\n",
    "stack = StackingCVRegressor(models, meta_regressor = LinearRegression(), cv=10)\n",
    "stack.fit(X_train.values, y_train.ravel())"
   ]
  },
  {
   "cell_type": "code",
   "execution_count": null,
   "metadata": {},
   "outputs": [],
   "source": [
    "#%%time\n",
    "\n",
    "result_stack = np.sqrt(-1*np.mean(cross_val_score(stack, X_train.values, np.exp(y_train).ravel(), cv=5, scoring='neg_mean_squared_error')))"
   ]
  },
  {
   "cell_type": "code",
   "execution_count": null,
   "metadata": {},
   "outputs": [],
   "source": [
    "y_pred_stack = stack.predict(X_test.values)\n",
    "y_pred_rf = rf.predict(X_test.values)"
   ]
  },
  {
   "cell_type": "code",
   "execution_count": null,
   "metadata": {},
   "outputs": [],
   "source": [
    "#submission_scores(np.exp(y_pred_rf), data_errors, 'RF_submission_scores')"
   ]
  },
  {
   "cell_type": "code",
   "execution_count": null,
   "metadata": {},
   "outputs": [],
   "source": []
  },
  {
   "cell_type": "code",
   "execution_count": null,
   "metadata": {},
   "outputs": [],
   "source": []
  }
 ],
 "metadata": {
  "kernelspec": {
   "display_name": "Python 3",
   "language": "python",
   "name": "python3"
  },
  "language_info": {
   "codemirror_mode": {
    "name": "ipython",
    "version": 3
   },
   "file_extension": ".py",
   "mimetype": "text/x-python",
   "name": "python",
   "nbconvert_exporter": "python",
   "pygments_lexer": "ipython3",
   "version": "3.7.1"
  }
 },
 "nbformat": 4,
 "nbformat_minor": 2
}
